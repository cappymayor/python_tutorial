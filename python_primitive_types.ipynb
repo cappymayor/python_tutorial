{
 "cells": [
  {
   "cell_type": "markdown",
   "id": "cbee5570",
   "metadata": {},
   "source": [
    "# PYTHON DATA TYPES"
   ]
  },
  {
   "cell_type": "markdown",
   "id": "8c608651",
   "metadata": {},
   "source": [
    "This section will cover the different data types we have in python, which includes ...\n",
    "- Integer\n",
    "    - This is a round figure digit, example includes 2, 5, 100, 1000, 65.\n",
    "- Float\n",
    "    - This is a decimal digit, example includes 3.5, 100.1, 0.5.\n",
    "- String\n",
    "    - This are text or combination of alphabets,numbers,special characters.\n",
    "- Boolean\n",
    "    - This are either True or False.\n",
    "\n",
    "This section will also cover how to create python variables, how to assign different values to the variables and from there, we will cover how to convert from one data types to the other."
   ]
  },
  {
   "cell_type": "code",
   "execution_count": 1,
   "id": "89becbe3",
   "metadata": {},
   "outputs": [],
   "source": [
    "# creating a variable and assigning a value to it\n",
    "\n",
    "x = 3"
   ]
  },
  {
   "cell_type": "code",
   "execution_count": 4,
   "id": "d97cd0e7",
   "metadata": {},
   "outputs": [
    {
     "name": "stdout",
     "output_type": "stream",
     "text": [
      "3\n"
     ]
    }
   ],
   "source": [
    "print(x)"
   ]
  },
  {
   "cell_type": "code",
   "execution_count": 9,
   "id": "748f300c",
   "metadata": {},
   "outputs": [],
   "source": [
    "name = \"mayowa\""
   ]
  },
  {
   "cell_type": "code",
   "execution_count": 10,
   "id": "220458be",
   "metadata": {},
   "outputs": [
    {
     "name": "stdout",
     "output_type": "stream",
     "text": [
      "mayowa\n"
     ]
    }
   ],
   "source": [
    "print(name)"
   ]
  },
  {
   "cell_type": "code",
   "execution_count": 11,
   "id": "eebd335a",
   "metadata": {},
   "outputs": [],
   "source": [
    "first_name = \"febisola\""
   ]
  },
  {
   "cell_type": "code",
   "execution_count": 12,
   "id": "10d7dbf5",
   "metadata": {},
   "outputs": [
    {
     "name": "stdout",
     "output_type": "stream",
     "text": [
      "febisola\n"
     ]
    }
   ],
   "source": [
    "print(first_name)"
   ]
  },
  {
   "cell_type": "code",
   "execution_count": 13,
   "id": "8de70846",
   "metadata": {},
   "outputs": [],
   "source": [
    "has_car = True"
   ]
  },
  {
   "cell_type": "code",
   "execution_count": 14,
   "id": "4df6891a",
   "metadata": {},
   "outputs": [
    {
     "name": "stdout",
     "output_type": "stream",
     "text": [
      "True\n"
     ]
    }
   ],
   "source": [
    "print(has_car)"
   ]
  },
  {
   "cell_type": "code",
   "execution_count": 15,
   "id": "c930c828",
   "metadata": {},
   "outputs": [],
   "source": [
    "height = 5.3"
   ]
  },
  {
   "cell_type": "code",
   "execution_count": 16,
   "id": "b1f6961e",
   "metadata": {},
   "outputs": [
    {
     "name": "stdout",
     "output_type": "stream",
     "text": [
      "5.3\n"
     ]
    }
   ],
   "source": [
    "print(height)"
   ]
  },
  {
   "cell_type": "markdown",
   "id": "383c3edf",
   "metadata": {},
   "source": [
    "### Arithmetic Operators in Python"
   ]
  },
  {
   "cell_type": "markdown",
   "id": "442719ff",
   "metadata": {},
   "source": [
    "We have different arithmetic operators in python which includes the following..\n",
    "- Addition ( + )\n",
    "    - Used to add numbers together\n",
    "- Substraction ( - )\n",
    "    - Used to subtract \n",
    "- Multiplication ( * )\n",
    "    - Used to multiply\n",
    "- Exponential ( ** )\n",
    "    - Raise to power\n",
    "- Division ( / )\n",
    "    - Used to divide, this type of division gives decimal result\n",
    "- Floor Division ( // )\n",
    "    - These type of division gives a round figue result\n",
    "- Modulo ( % )\n",
    "    - This is used to get the remainder of a division"
   ]
  },
  {
   "cell_type": "code",
   "execution_count": 18,
   "id": "da6816f3",
   "metadata": {},
   "outputs": [],
   "source": [
    "x = 2"
   ]
  },
  {
   "cell_type": "code",
   "execution_count": 19,
   "id": "926354ca",
   "metadata": {},
   "outputs": [],
   "source": [
    "y = 3"
   ]
  },
  {
   "cell_type": "code",
   "execution_count": 20,
   "id": "4866a650",
   "metadata": {},
   "outputs": [
    {
     "name": "stdout",
     "output_type": "stream",
     "text": [
      "5\n"
     ]
    }
   ],
   "source": [
    "#Addition\n",
    "print(x + y)"
   ]
  },
  {
   "cell_type": "code",
   "execution_count": 21,
   "id": "8ee63eae",
   "metadata": {},
   "outputs": [],
   "source": [
    "a = 10"
   ]
  },
  {
   "cell_type": "code",
   "execution_count": 22,
   "id": "b57f3d23",
   "metadata": {},
   "outputs": [],
   "source": [
    "b = 5"
   ]
  },
  {
   "cell_type": "code",
   "execution_count": 23,
   "id": "4b8662e7",
   "metadata": {},
   "outputs": [
    {
     "name": "stdout",
     "output_type": "stream",
     "text": [
      "5\n"
     ]
    }
   ],
   "source": [
    "#subtraction\n",
    "print(a - b)"
   ]
  },
  {
   "cell_type": "code",
   "execution_count": 24,
   "id": "e5320b39",
   "metadata": {},
   "outputs": [],
   "source": [
    "m = 2"
   ]
  },
  {
   "cell_type": "code",
   "execution_count": 25,
   "id": "c291f4b4",
   "metadata": {},
   "outputs": [],
   "source": [
    "n = 5"
   ]
  },
  {
   "cell_type": "code",
   "execution_count": 26,
   "id": "272b4ff8",
   "metadata": {},
   "outputs": [
    {
     "name": "stdout",
     "output_type": "stream",
     "text": [
      "10\n"
     ]
    }
   ],
   "source": [
    "# multiplication\n",
    "print(m * n )"
   ]
  },
  {
   "cell_type": "code",
   "execution_count": 27,
   "id": "4ced9292",
   "metadata": {},
   "outputs": [],
   "source": [
    "k = 2"
   ]
  },
  {
   "cell_type": "code",
   "execution_count": 28,
   "id": "e44a8ebe",
   "metadata": {},
   "outputs": [
    {
     "name": "stdout",
     "output_type": "stream",
     "text": [
      "8\n"
     ]
    }
   ],
   "source": [
    "#Exponential\n",
    "print(k**3)"
   ]
  },
  {
   "cell_type": "code",
   "execution_count": 31,
   "id": "6d68cad4",
   "metadata": {},
   "outputs": [],
   "source": [
    "student_1 = 20"
   ]
  },
  {
   "cell_type": "code",
   "execution_count": 32,
   "id": "f06eec63",
   "metadata": {},
   "outputs": [],
   "source": [
    "student_2 = 10"
   ]
  },
  {
   "cell_type": "code",
   "execution_count": 33,
   "id": "6fa99d0e",
   "metadata": {},
   "outputs": [
    {
     "name": "stdout",
     "output_type": "stream",
     "text": [
      "2.0\n"
     ]
    }
   ],
   "source": [
    "#Division\n",
    "print(student_1 / student_2)"
   ]
  },
  {
   "cell_type": "code",
   "execution_count": 34,
   "id": "f52d7935",
   "metadata": {},
   "outputs": [
    {
     "name": "stdout",
     "output_type": "stream",
     "text": [
      "2\n"
     ]
    }
   ],
   "source": [
    "#Floor Division\n",
    "print(student_1 // student_2)"
   ]
  },
  {
   "cell_type": "code",
   "execution_count": 38,
   "id": "0ee212b9",
   "metadata": {},
   "outputs": [
    {
     "name": "stdout",
     "output_type": "stream",
     "text": [
      "0\n"
     ]
    }
   ],
   "source": [
    "#Modulo (percentage sign % ), modulo is mostly used to check for even numbers and odd numbers\n",
    "print(4 % 2)"
   ]
  },
  {
   "cell_type": "code",
   "execution_count": 30,
   "id": "56a7045e",
   "metadata": {},
   "outputs": [
    {
     "name": "stdout",
     "output_type": "stream",
     "text": [
      "1\n"
     ]
    }
   ],
   "source": [
    "#Modulo\n",
    "print(3 % 2)"
   ]
  },
  {
   "cell_type": "markdown",
   "id": "03b0f077",
   "metadata": {},
   "source": [
    "### Checking the data types of a variable "
   ]
  },
  {
   "cell_type": "code",
   "execution_count": 1,
   "id": "d09470fe",
   "metadata": {},
   "outputs": [],
   "source": [
    "city = \"lagos\""
   ]
  },
  {
   "cell_type": "code",
   "execution_count": 3,
   "id": "a60f2c77",
   "metadata": {},
   "outputs": [
    {
     "name": "stdout",
     "output_type": "stream",
     "text": [
      "<class 'str'>\n"
     ]
    }
   ],
   "source": [
    "print(type(city))"
   ]
  },
  {
   "cell_type": "code",
   "execution_count": 4,
   "id": "43bc14a4",
   "metadata": {},
   "outputs": [],
   "source": [
    "age = 29"
   ]
  },
  {
   "cell_type": "code",
   "execution_count": 5,
   "id": "18b465eb",
   "metadata": {},
   "outputs": [
    {
     "name": "stdout",
     "output_type": "stream",
     "text": [
      "<class 'int'>\n"
     ]
    }
   ],
   "source": [
    "print(type(age))"
   ]
  },
  {
   "cell_type": "code",
   "execution_count": 6,
   "id": "f12d6757",
   "metadata": {},
   "outputs": [],
   "source": [
    "price = 20.5"
   ]
  },
  {
   "cell_type": "code",
   "execution_count": 8,
   "id": "7ecadc12",
   "metadata": {},
   "outputs": [
    {
     "name": "stdout",
     "output_type": "stream",
     "text": [
      "<class 'float'>\n"
     ]
    }
   ],
   "source": [
    "print(type(price))"
   ]
  },
  {
   "cell_type": "code",
   "execution_count": 9,
   "id": "4ec51247",
   "metadata": {},
   "outputs": [],
   "source": [
    "has_job = False"
   ]
  },
  {
   "cell_type": "code",
   "execution_count": 10,
   "id": "bc04a6d7",
   "metadata": {},
   "outputs": [
    {
     "name": "stdout",
     "output_type": "stream",
     "text": [
      "<class 'bool'>\n"
     ]
    }
   ],
   "source": [
    "print(type(has_job))"
   ]
  },
  {
   "cell_type": "markdown",
   "id": "e7b3f23d",
   "metadata": {},
   "source": [
    "### Rounding decimal to nearest whole number"
   ]
  },
  {
   "cell_type": "code",
   "execution_count": 17,
   "id": "bf4d915f",
   "metadata": {},
   "outputs": [],
   "source": [
    "x = 20.6"
   ]
  },
  {
   "cell_type": "code",
   "execution_count": 19,
   "id": "fd0b3ffa",
   "metadata": {},
   "outputs": [
    {
     "name": "stdout",
     "output_type": "stream",
     "text": [
      "21\n"
     ]
    }
   ],
   "source": [
    "# rounding to nearest digit\n",
    "print(round(x))"
   ]
  },
  {
   "cell_type": "code",
   "execution_count": 20,
   "id": "9ddc40f6",
   "metadata": {},
   "outputs": [],
   "source": [
    "first_number = 4\n",
    "second_number = 2"
   ]
  },
  {
   "cell_type": "code",
   "execution_count": 27,
   "id": "15bfe0f6",
   "metadata": {},
   "outputs": [],
   "source": [
    "result = round(first_number / second_number)"
   ]
  },
  {
   "cell_type": "code",
   "execution_count": 28,
   "id": "8b7dd138",
   "metadata": {},
   "outputs": [
    {
     "name": "stdout",
     "output_type": "stream",
     "text": [
      "2\n"
     ]
    }
   ],
   "source": [
    "print(result)"
   ]
  },
  {
   "cell_type": "markdown",
   "id": "ef3bbb01",
   "metadata": {},
   "source": [
    "### Data types conversion"
   ]
  },
  {
   "cell_type": "code",
   "execution_count": 49,
   "id": "6e1f592d",
   "metadata": {},
   "outputs": [],
   "source": [
    "x = \"25\""
   ]
  },
  {
   "cell_type": "code",
   "execution_count": 50,
   "id": "f18a47f5",
   "metadata": {},
   "outputs": [
    {
     "name": "stdout",
     "output_type": "stream",
     "text": [
      "25\n"
     ]
    }
   ],
   "source": [
    "print(x)"
   ]
  },
  {
   "cell_type": "code",
   "execution_count": 51,
   "id": "f6c3e513",
   "metadata": {},
   "outputs": [
    {
     "name": "stdout",
     "output_type": "stream",
     "text": [
      "<class 'str'>\n"
     ]
    }
   ],
   "source": [
    "print(type(x))"
   ]
  },
  {
   "cell_type": "code",
   "execution_count": 47,
   "id": "06a6a515",
   "metadata": {},
   "outputs": [],
   "source": [
    "convert_x = int(x)"
   ]
  },
  {
   "cell_type": "code",
   "execution_count": 52,
   "id": "82049a3e",
   "metadata": {},
   "outputs": [
    {
     "name": "stdout",
     "output_type": "stream",
     "text": [
      "<class 'int'>\n"
     ]
    }
   ],
   "source": [
    "print(type(convert_x))"
   ]
  },
  {
   "cell_type": "code",
   "execution_count": 58,
   "id": "18d8f6c2",
   "metadata": {},
   "outputs": [],
   "source": [
    "y = 5"
   ]
  },
  {
   "cell_type": "code",
   "execution_count": 59,
   "id": "fcd3190e",
   "metadata": {},
   "outputs": [
    {
     "name": "stdout",
     "output_type": "stream",
     "text": [
      "<class 'int'>\n"
     ]
    }
   ],
   "source": [
    "print(type(y))"
   ]
  },
  {
   "cell_type": "code",
   "execution_count": 60,
   "id": "d67663e5",
   "metadata": {},
   "outputs": [],
   "source": [
    "convert_y = float(y)"
   ]
  },
  {
   "cell_type": "code",
   "execution_count": 63,
   "id": "bc0645b3",
   "metadata": {},
   "outputs": [
    {
     "name": "stdout",
     "output_type": "stream",
     "text": [
      "5.0\n"
     ]
    }
   ],
   "source": [
    "print(convert_y)"
   ]
  },
  {
   "cell_type": "code",
   "execution_count": 62,
   "id": "b8ca5ba1",
   "metadata": {},
   "outputs": [
    {
     "name": "stdout",
     "output_type": "stream",
     "text": [
      "<class 'float'>\n"
     ]
    }
   ],
   "source": [
    "print(type(convert_y))"
   ]
  },
  {
   "cell_type": "code",
   "execution_count": 64,
   "id": "e0de0f5a",
   "metadata": {},
   "outputs": [],
   "source": [
    "m = 5.7"
   ]
  },
  {
   "cell_type": "code",
   "execution_count": 65,
   "id": "6b50c477",
   "metadata": {},
   "outputs": [],
   "source": [
    "convert_m = int(m)"
   ]
  },
  {
   "cell_type": "code",
   "execution_count": 66,
   "id": "e025e9c3",
   "metadata": {},
   "outputs": [
    {
     "name": "stdout",
     "output_type": "stream",
     "text": [
      "5\n"
     ]
    }
   ],
   "source": [
    "print(convert_m)"
   ]
  },
  {
   "cell_type": "code",
   "execution_count": 67,
   "id": "d212db25",
   "metadata": {},
   "outputs": [],
   "source": [
    "k = \"3.5\""
   ]
  },
  {
   "cell_type": "code",
   "execution_count": 69,
   "id": "761a6d0e",
   "metadata": {},
   "outputs": [],
   "source": [
    "convert_k = int(float(k))"
   ]
  },
  {
   "cell_type": "code",
   "execution_count": 70,
   "id": "84ba8030",
   "metadata": {},
   "outputs": [
    {
     "name": "stdout",
     "output_type": "stream",
     "text": [
      "3\n"
     ]
    }
   ],
   "source": [
    "print(convert_k)"
   ]
  },
  {
   "cell_type": "markdown",
   "id": "37b9df09",
   "metadata": {},
   "source": [
    "### String concatenation "
   ]
  },
  {
   "cell_type": "markdown",
   "id": "ac6e5269",
   "metadata": {},
   "source": [
    "The process where by we join two or more strings together is called Concatenation in python"
   ]
  },
  {
   "cell_type": "code",
   "execution_count": 82,
   "id": "aaa22650",
   "metadata": {},
   "outputs": [],
   "source": [
    "first_name = \"cappy \"\n",
    "last_name = \"mayor\""
   ]
  },
  {
   "cell_type": "code",
   "execution_count": 83,
   "id": "91416d43",
   "metadata": {},
   "outputs": [],
   "source": [
    "concat = first_name + last_name"
   ]
  },
  {
   "cell_type": "code",
   "execution_count": 84,
   "id": "e01447ac",
   "metadata": {},
   "outputs": [
    {
     "name": "stdout",
     "output_type": "stream",
     "text": [
      "cappy mayor\n"
     ]
    }
   ],
   "source": [
    "print(concat)"
   ]
  },
  {
   "cell_type": "code",
   "execution_count": 8,
   "id": "4776f7ef",
   "metadata": {},
   "outputs": [],
   "source": [
    "x = \"2\"\n",
    "y = \"2\""
   ]
  },
  {
   "cell_type": "code",
   "execution_count": 9,
   "id": "c37a84cd",
   "metadata": {},
   "outputs": [
    {
     "name": "stdout",
     "output_type": "stream",
     "text": [
      "22\n"
     ]
    }
   ],
   "source": [
    "print(x + y)"
   ]
  },
  {
   "cell_type": "markdown",
   "id": "c10e28a0",
   "metadata": {},
   "source": [
    "### Formatted string in python"
   ]
  },
  {
   "cell_type": "code",
   "execution_count": 85,
   "id": "c8324219",
   "metadata": {},
   "outputs": [],
   "source": [
    "my_age = 15"
   ]
  },
  {
   "cell_type": "code",
   "execution_count": 86,
   "id": "b575ea25",
   "metadata": {},
   "outputs": [
    {
     "name": "stdout",
     "output_type": "stream",
     "text": [
      "15\n"
     ]
    }
   ],
   "source": [
    "print(my_age)"
   ]
  },
  {
   "cell_type": "code",
   "execution_count": 91,
   "id": "a7e7d126",
   "metadata": {},
   "outputs": [
    {
     "name": "stdout",
     "output_type": "stream",
     "text": [
      "my age is 15 years old\n"
     ]
    }
   ],
   "source": [
    "#using a formatted string\n",
    "print(f\"my age is {my_age} years old\")"
   ]
  },
  {
   "cell_type": "markdown",
   "id": "f32a8215",
   "metadata": {},
   "source": [
    "### Lower and Upper case function"
   ]
  },
  {
   "cell_type": "code",
   "execution_count": 1,
   "id": "912f4897",
   "metadata": {},
   "outputs": [],
   "source": [
    "name = \"FebiSOla\""
   ]
  },
  {
   "cell_type": "code",
   "execution_count": 2,
   "id": "5a14af36",
   "metadata": {},
   "outputs": [
    {
     "name": "stdout",
     "output_type": "stream",
     "text": [
      "febisola\n"
     ]
    }
   ],
   "source": [
    "print(name.lower())"
   ]
  },
  {
   "cell_type": "code",
   "execution_count": 3,
   "id": "37af0112",
   "metadata": {},
   "outputs": [
    {
     "name": "stdout",
     "output_type": "stream",
     "text": [
      "FEBISOLA\n"
     ]
    }
   ],
   "source": [
    "print(name.upper())"
   ]
  },
  {
   "cell_type": "markdown",
   "id": "3fbabf97",
   "metadata": {},
   "source": [
    "### Python random function"
   ]
  },
  {
   "cell_type": "markdown",
   "id": "e8df2c6c",
   "metadata": {},
   "source": [
    "Reference: https://www.w3schools.com/python/ref_random_randint.asp"
   ]
  },
  {
   "cell_type": "code",
   "execution_count": 2,
   "id": "520e81cf",
   "metadata": {},
   "outputs": [],
   "source": [
    "import random"
   ]
  },
  {
   "cell_type": "code",
   "execution_count": 29,
   "id": "6af548b8",
   "metadata": {},
   "outputs": [],
   "source": [
    "#Generate random number between 1 and 10\n",
    "random_number = random.randint(1, 10)"
   ]
  },
  {
   "cell_type": "code",
   "execution_count": 30,
   "id": "72316cba",
   "metadata": {},
   "outputs": [
    {
     "name": "stdout",
     "output_type": "stream",
     "text": [
      "4\n"
     ]
    }
   ],
   "source": [
    "print(random_number)"
   ]
  },
  {
   "cell_type": "code",
   "execution_count": 31,
   "id": "cf4462e3",
   "metadata": {},
   "outputs": [],
   "source": [
    "random_number = random.randint(1, 10)"
   ]
  },
  {
   "cell_type": "code",
   "execution_count": 32,
   "id": "040b83bd",
   "metadata": {},
   "outputs": [
    {
     "name": "stdout",
     "output_type": "stream",
     "text": [
      "5\n"
     ]
    }
   ],
   "source": [
    "print(random_number)"
   ]
  },
  {
   "cell_type": "markdown",
   "id": "f37c3b4a",
   "metadata": {},
   "source": [
    "### Python user input "
   ]
  },
  {
   "cell_type": "markdown",
   "id": "829f4adf",
   "metadata": {},
   "source": [
    "This is useful when we want user to supply some data and use those data behind the scene"
   ]
  },
  {
   "cell_type": "code",
   "execution_count": 44,
   "id": "be5017a5",
   "metadata": {},
   "outputs": [
    {
     "name": "stdout",
     "output_type": "stream",
     "text": [
      "Please in your first name:       febi\n"
     ]
    }
   ],
   "source": [
    "first_name = input(\"Please in your first name:       \")"
   ]
  },
  {
   "cell_type": "code",
   "execution_count": 45,
   "id": "9268024c",
   "metadata": {},
   "outputs": [
    {
     "name": "stdout",
     "output_type": "stream",
     "text": [
      "febi\n"
     ]
    }
   ],
   "source": [
    "print(first_name)"
   ]
  },
  {
   "cell_type": "code",
   "execution_count": 46,
   "id": "134660ec",
   "metadata": {},
   "outputs": [
    {
     "name": "stdout",
     "output_type": "stream",
     "text": [
      "put in any number:    7\n"
     ]
    }
   ],
   "source": [
    "number = input(\"put in any number:    \")"
   ]
  },
  {
   "cell_type": "code",
   "execution_count": 47,
   "id": "4ffbfc1c",
   "metadata": {},
   "outputs": [
    {
     "name": "stdout",
     "output_type": "stream",
     "text": [
      "7\n"
     ]
    }
   ],
   "source": [
    "print(number)"
   ]
  },
  {
   "cell_type": "code",
   "execution_count": 48,
   "id": "4ead0db8",
   "metadata": {},
   "outputs": [
    {
     "name": "stdout",
     "output_type": "stream",
     "text": [
      "<class 'str'>\n"
     ]
    }
   ],
   "source": [
    "print(type(number))"
   ]
  },
  {
   "cell_type": "code",
   "execution_count": 49,
   "id": "17e1beac",
   "metadata": {},
   "outputs": [
    {
     "name": "stdout",
     "output_type": "stream",
     "text": [
      "put in any number:    7\n"
     ]
    }
   ],
   "source": [
    "number = int(input(\"put in any number:    \"))"
   ]
  },
  {
   "cell_type": "code",
   "execution_count": 50,
   "id": "7e2c7884",
   "metadata": {},
   "outputs": [
    {
     "name": "stdout",
     "output_type": "stream",
     "text": [
      "7\n"
     ]
    }
   ],
   "source": [
    "print(number)"
   ]
  },
  {
   "cell_type": "code",
   "execution_count": 51,
   "id": "47d046ef",
   "metadata": {},
   "outputs": [
    {
     "name": "stdout",
     "output_type": "stream",
     "text": [
      "<class 'int'>\n"
     ]
    }
   ],
   "source": [
    "print(type(number))"
   ]
  },
  {
   "cell_type": "code",
   "execution_count": null,
   "id": "fdbc50ab",
   "metadata": {},
   "outputs": [],
   "source": []
  }
 ],
 "metadata": {
  "kernelspec": {
   "display_name": "Python 3",
   "language": "python",
   "name": "python3"
  },
  "language_info": {
   "codemirror_mode": {
    "name": "ipython",
    "version": 3
   },
   "file_extension": ".py",
   "mimetype": "text/x-python",
   "name": "python",
   "nbconvert_exporter": "python",
   "pygments_lexer": "ipython3",
   "version": "3.8.8"
  }
 },
 "nbformat": 4,
 "nbformat_minor": 5
}
