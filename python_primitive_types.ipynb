{
 "cells": [
  {
   "cell_type": "markdown",
   "id": "cbee5570",
   "metadata": {},
   "source": [
    "# PYTHON DATA TYPES"
   ]
  },
  {
   "cell_type": "markdown",
   "id": "8c608651",
   "metadata": {},
   "source": [
    "This section will cover the different data types we have in python, which includes ...\n",
    "- Integer\n",
    "    - This is a round figure digit, example includes 2, 5, 100, 1000, 65.\n",
    "- Float\n",
    "    - This is a decimal digit, example includes 3.5, 100.1, 0.5.\n",
    "- String\n",
    "    - This are text or combination of alphabets,numbers,special characters.\n",
    "- Boolean\n",
    "    - This are either True or False.\n",
    "\n",
    "This section will also cover how to create python variables, how to assign different values to the variables and from there, we will cover how to convert from one data types to the other."
   ]
  },
  {
   "cell_type": "code",
   "execution_count": 1,
   "id": "89becbe3",
   "metadata": {},
   "outputs": [],
   "source": [
    "# creating a variable and assigning a value to it\n",
    "\n",
    "x = 3"
   ]
  },
  {
   "cell_type": "code",
   "execution_count": 4,
   "id": "d97cd0e7",
   "metadata": {},
   "outputs": [
    {
     "name": "stdout",
     "output_type": "stream",
     "text": [
      "3\n"
     ]
    }
   ],
   "source": [
    "print(x)"
   ]
  },
  {
   "cell_type": "code",
   "execution_count": 9,
   "id": "748f300c",
   "metadata": {},
   "outputs": [],
   "source": [
    "name = \"mayowa\""
   ]
  },
  {
   "cell_type": "code",
   "execution_count": 10,
   "id": "220458be",
   "metadata": {},
   "outputs": [
    {
     "name": "stdout",
     "output_type": "stream",
     "text": [
      "mayowa\n"
     ]
    }
   ],
   "source": [
    "print(name)"
   ]
  },
  {
   "cell_type": "code",
   "execution_count": 11,
   "id": "eebd335a",
   "metadata": {},
   "outputs": [],
   "source": [
    "first_name = \"febisola\""
   ]
  },
  {
   "cell_type": "code",
   "execution_count": 12,
   "id": "10d7dbf5",
   "metadata": {},
   "outputs": [
    {
     "name": "stdout",
     "output_type": "stream",
     "text": [
      "febisola\n"
     ]
    }
   ],
   "source": [
    "print(first_name)"
   ]
  },
  {
   "cell_type": "code",
   "execution_count": 13,
   "id": "8de70846",
   "metadata": {},
   "outputs": [],
   "source": [
    "has_car = True"
   ]
  },
  {
   "cell_type": "code",
   "execution_count": 14,
   "id": "4df6891a",
   "metadata": {},
   "outputs": [
    {
     "name": "stdout",
     "output_type": "stream",
     "text": [
      "True\n"
     ]
    }
   ],
   "source": [
    "print(has_car)"
   ]
  },
  {
   "cell_type": "code",
   "execution_count": 15,
   "id": "c930c828",
   "metadata": {},
   "outputs": [],
   "source": [
    "height = 5.3"
   ]
  },
  {
   "cell_type": "code",
   "execution_count": 16,
   "id": "b1f6961e",
   "metadata": {},
   "outputs": [
    {
     "name": "stdout",
     "output_type": "stream",
     "text": [
      "5.3\n"
     ]
    }
   ],
   "source": [
    "print(height)"
   ]
  },
  {
   "cell_type": "markdown",
   "id": "383c3edf",
   "metadata": {},
   "source": [
    "### Arithmetic Operators in Python"
   ]
  },
  {
   "cell_type": "markdown",
   "id": "442719ff",
   "metadata": {},
   "source": [
    "We have different arithmetic operators in python which includes the following..\n",
    "- Addition ( + )\n",
    "    - Used to add numbers together\n",
    "- Substraction ( - )\n",
    "    - Used to subtract \n",
    "- Multiplication ( * )\n",
    "    - Used to multiply\n",
    "- Exponential ( ** )\n",
    "    - Raise to power\n",
    "- Division ( / )\n",
    "    - Used to divide, this type of division gives decimal result\n",
    "- Floor Division ( // )\n",
    "    - This type of division gives a round figue result"
   ]
  },
  {
   "cell_type": "code",
   "execution_count": 18,
   "id": "da6816f3",
   "metadata": {},
   "outputs": [],
   "source": [
    "x = 2"
   ]
  },
  {
   "cell_type": "code",
   "execution_count": 19,
   "id": "926354ca",
   "metadata": {},
   "outputs": [],
   "source": [
    "y = 3"
   ]
  },
  {
   "cell_type": "code",
   "execution_count": 20,
   "id": "4866a650",
   "metadata": {},
   "outputs": [
    {
     "name": "stdout",
     "output_type": "stream",
     "text": [
      "5\n"
     ]
    }
   ],
   "source": [
    "#Addition\n",
    "print(x + y)"
   ]
  },
  {
   "cell_type": "code",
   "execution_count": 21,
   "id": "8ee63eae",
   "metadata": {},
   "outputs": [],
   "source": [
    "a = 10"
   ]
  },
  {
   "cell_type": "code",
   "execution_count": 22,
   "id": "b57f3d23",
   "metadata": {},
   "outputs": [],
   "source": [
    "b = 5"
   ]
  },
  {
   "cell_type": "code",
   "execution_count": 23,
   "id": "4b8662e7",
   "metadata": {},
   "outputs": [
    {
     "name": "stdout",
     "output_type": "stream",
     "text": [
      "5\n"
     ]
    }
   ],
   "source": [
    "#subtraction\n",
    "print(a - b)"
   ]
  },
  {
   "cell_type": "code",
   "execution_count": 24,
   "id": "e5320b39",
   "metadata": {},
   "outputs": [],
   "source": [
    "m = 2"
   ]
  },
  {
   "cell_type": "code",
   "execution_count": 25,
   "id": "c291f4b4",
   "metadata": {},
   "outputs": [],
   "source": [
    "n = 5"
   ]
  },
  {
   "cell_type": "code",
   "execution_count": 26,
   "id": "272b4ff8",
   "metadata": {},
   "outputs": [
    {
     "name": "stdout",
     "output_type": "stream",
     "text": [
      "10\n"
     ]
    }
   ],
   "source": [
    "# multiplication\n",
    "print(m * n )"
   ]
  },
  {
   "cell_type": "code",
   "execution_count": 27,
   "id": "4ced9292",
   "metadata": {},
   "outputs": [],
   "source": [
    "k = 2"
   ]
  },
  {
   "cell_type": "code",
   "execution_count": 28,
   "id": "e44a8ebe",
   "metadata": {},
   "outputs": [
    {
     "name": "stdout",
     "output_type": "stream",
     "text": [
      "8\n"
     ]
    }
   ],
   "source": [
    "#Exponential\n",
    "print(k**3)"
   ]
  },
  {
   "cell_type": "code",
   "execution_count": 31,
   "id": "6d68cad4",
   "metadata": {},
   "outputs": [],
   "source": [
    "student_1 = 20"
   ]
  },
  {
   "cell_type": "code",
   "execution_count": 32,
   "id": "f06eec63",
   "metadata": {},
   "outputs": [],
   "source": [
    "student_2 = 10"
   ]
  },
  {
   "cell_type": "code",
   "execution_count": 33,
   "id": "6fa99d0e",
   "metadata": {},
   "outputs": [
    {
     "name": "stdout",
     "output_type": "stream",
     "text": [
      "2.0\n"
     ]
    }
   ],
   "source": [
    "#Division\n",
    "print(student_1 / student_2)"
   ]
  },
  {
   "cell_type": "code",
   "execution_count": 34,
   "id": "f52d7935",
   "metadata": {},
   "outputs": [
    {
     "name": "stdout",
     "output_type": "stream",
     "text": [
      "2\n"
     ]
    }
   ],
   "source": [
    "#Floor Division\n",
    "print(student_1 // student_2)"
   ]
  },
  {
   "cell_type": "code",
   "execution_count": null,
   "id": "4365dc26",
   "metadata": {},
   "outputs": [],
   "source": []
  }
 ],
 "metadata": {
  "kernelspec": {
   "display_name": "Python 3",
   "language": "python",
   "name": "python3"
  },
  "language_info": {
   "codemirror_mode": {
    "name": "ipython",
    "version": 3
   },
   "file_extension": ".py",
   "mimetype": "text/x-python",
   "name": "python",
   "nbconvert_exporter": "python",
   "pygments_lexer": "ipython3",
   "version": "3.8.8"
  }
 },
 "nbformat": 4,
 "nbformat_minor": 5
}
