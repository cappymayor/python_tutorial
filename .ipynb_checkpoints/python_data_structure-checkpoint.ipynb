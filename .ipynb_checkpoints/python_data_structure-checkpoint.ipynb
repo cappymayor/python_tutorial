{
 "cells": [
  {
   "cell_type": "markdown",
   "id": "6a9b1588",
   "metadata": {},
   "source": [
    "# PYTHON DATA STRUCTURES"
   ]
  },
  {
   "cell_type": "markdown",
   "id": "5c1e14af",
   "metadata": {},
   "source": [
    "We have 4 different data structures in python, this data strucures are more like a collection which contains different data. When these data are in the collections which are known as data structures, we can use different methods to access the data inside the collections known as data structures. They include......\n",
    "\n",
    "- Set\n",
    "- Tuple\n",
    "- Dictionary\n",
    "- List"
   ]
  },
  {
   "cell_type": "markdown",
   "id": "a3138f48",
   "metadata": {},
   "source": [
    "## SET"
   ]
  },
  {
   "cell_type": "markdown",
   "id": "2c29c7e0",
   "metadata": {},
   "source": [
    "Set data structure is mainly used for de-duplicating, meaning it is used to erase duplicates. Also, to identify a SET, it starts with the open curly braces and ends with the enclose curly braces { }."
   ]
  },
  {
   "cell_type": "code",
   "execution_count": 1,
   "id": "33838561",
   "metadata": {},
   "outputs": [],
   "source": [
    "akinyele_house = {36, 36, 35, 28, 27, 3}"
   ]
  },
  {
   "cell_type": "code",
   "execution_count": 2,
   "id": "80b3a24c",
   "metadata": {},
   "outputs": [
    {
     "name": "stdout",
     "output_type": "stream",
     "text": [
      "{3, 35, 36, 27, 28}\n"
     ]
    }
   ],
   "source": [
    "#The output shows one of the 36 above has been removed since they are duplicate\n",
    "\n",
    "print(akinyele_house)"
   ]
  },
  {
   "cell_type": "code",
   "execution_count": 3,
   "id": "695391f7",
   "metadata": {},
   "outputs": [
    {
     "name": "stdout",
     "output_type": "stream",
     "text": [
      "<class 'set'>\n"
     ]
    }
   ],
   "source": [
    "#checking the type of the variable above, we can see it shows its of the class Set.\n",
    "print(type(akinyele_house))"
   ]
  },
  {
   "cell_type": "markdown",
   "id": "13714e20",
   "metadata": {},
   "source": [
    "## TUPLE "
   ]
  },
  {
   "cell_type": "markdown",
   "id": "48989711",
   "metadata": {},
   "source": [
    "Tuple data structures are immutable, meaning you cannot append(add) anything inside them or remove anything from it, which makes it safe from being alter. They are open and enclose with parenthesis ( )"
   ]
  },
  {
   "cell_type": "code",
   "execution_count": 4,
   "id": "36b55cf2",
   "metadata": {},
   "outputs": [],
   "source": [
    "random_data = (2, 4, \"mayor\", 7.9)"
   ]
  },
  {
   "cell_type": "code",
   "execution_count": 5,
   "id": "d74ff7cf",
   "metadata": {},
   "outputs": [
    {
     "name": "stdout",
     "output_type": "stream",
     "text": [
      "(2, 4, 'mayor', 7.9)\n"
     ]
    }
   ],
   "source": [
    "print(random_data)"
   ]
  },
  {
   "cell_type": "code",
   "execution_count": 6,
   "id": "2070a1b5",
   "metadata": {},
   "outputs": [
    {
     "name": "stdout",
     "output_type": "stream",
     "text": [
      "<class 'tuple'>\n"
     ]
    }
   ],
   "source": [
    "print(type(random_data))"
   ]
  },
  {
   "cell_type": "markdown",
   "id": "f523c9e5",
   "metadata": {},
   "source": [
    "## DICTIONARY"
   ]
  },
  {
   "cell_type": "markdown",
   "id": "73766a5f",
   "metadata": {},
   "source": [
    "Dictionary are important data structure used to map items together in form of a key-value pair. They are open and closed by curyly braces { } also, except that the items inside a dictionary are key:value pair in nature."
   ]
  },
  {
   "cell_type": "code",
   "execution_count": 7,
   "id": "18f5bb25",
   "metadata": {},
   "outputs": [],
   "source": [
    "akinyele_house = {\"omoba\":36, \"mayowa\":36, \"febisola\":35, \"ebun\":28, \"funbi\":24, \"zane\":3}"
   ]
  },
  {
   "cell_type": "code",
   "execution_count": 8,
   "id": "e6ec449e",
   "metadata": {},
   "outputs": [
    {
     "name": "stdout",
     "output_type": "stream",
     "text": [
      "{'omoba': 36, 'mayowa': 36, 'febisola': 35, 'ebun': 28, 'funbi': 24, 'zane': 3}\n"
     ]
    }
   ],
   "source": [
    "print(akinyele_house)"
   ]
  },
  {
   "cell_type": "code",
   "execution_count": 9,
   "id": "d301afb8",
   "metadata": {},
   "outputs": [
    {
     "name": "stdout",
     "output_type": "stream",
     "text": [
      "<class 'dict'>\n"
     ]
    }
   ],
   "source": [
    "print(type(akinyele_house))"
   ]
  },
  {
   "cell_type": "code",
   "execution_count": null,
   "id": "8a282750",
   "metadata": {},
   "outputs": [],
   "source": [
    "people = {\"mayowa\":\"idanre\", \"febisola\":\"akure\"}"
   ]
  },
  {
   "cell_type": "markdown",
   "id": "d3f47644",
   "metadata": {},
   "source": [
    "## Accessing dictionary values "
   ]
  },
  {
   "cell_type": "code",
   "execution_count": 162,
   "id": "d0b5a6bc",
   "metadata": {},
   "outputs": [],
   "source": [
    "new_dict = {\"mayowa\": 21, \"febisola\": 25}"
   ]
  },
  {
   "cell_type": "code",
   "execution_count": 168,
   "id": "452cb30e",
   "metadata": {},
   "outputs": [
    {
     "name": "stdout",
     "output_type": "stream",
     "text": [
      "25\n"
     ]
    }
   ],
   "source": [
    "print(new_dict[\"febisola\"])"
   ]
  },
  {
   "cell_type": "code",
   "execution_count": 169,
   "id": "909e0a81",
   "metadata": {},
   "outputs": [
    {
     "ename": "KeyError",
     "evalue": "'febisolaa'",
     "output_type": "error",
     "traceback": [
      "\u001b[0;31m---------------------------------------------------------------------------\u001b[0m",
      "\u001b[0;31mKeyError\u001b[0m                                  Traceback (most recent call last)",
      "\u001b[0;32m<ipython-input-169-dbee43487475>\u001b[0m in \u001b[0;36m<module>\u001b[0;34m\u001b[0m\n\u001b[0;32m----> 1\u001b[0;31m \u001b[0mprint\u001b[0m\u001b[0;34m(\u001b[0m\u001b[0mnew_dict\u001b[0m\u001b[0;34m[\u001b[0m\u001b[0;34m\"febisolaa\"\u001b[0m\u001b[0;34m]\u001b[0m\u001b[0;34m)\u001b[0m\u001b[0;34m\u001b[0m\u001b[0;34m\u001b[0m\u001b[0m\n\u001b[0m",
      "\u001b[0;31mKeyError\u001b[0m: 'febisolaa'"
     ]
    }
   ],
   "source": [
    "print(new_dict[\"febisolaa\"])"
   ]
  },
  {
   "cell_type": "markdown",
   "id": "e2949993",
   "metadata": {},
   "source": [
    "We got the KeyError above because there is no key called febisolaa"
   ]
  },
  {
   "cell_type": "code",
   "execution_count": 170,
   "id": "081ce6b4",
   "metadata": {},
   "outputs": [],
   "source": [
    "new_dict_1 = {\"mayowa\": 21, \"febisola\": 25, \"funbi\": 35}"
   ]
  },
  {
   "cell_type": "code",
   "execution_count": 172,
   "id": "ed46d9fd",
   "metadata": {},
   "outputs": [
    {
     "name": "stdout",
     "output_type": "stream",
     "text": [
      "dict_keys(['mayowa', 'febisola', 'funbi'])\n"
     ]
    }
   ],
   "source": [
    "print(new_dict_1.keys())"
   ]
  },
  {
   "cell_type": "code",
   "execution_count": 173,
   "id": "64604d84",
   "metadata": {},
   "outputs": [
    {
     "name": "stdout",
     "output_type": "stream",
     "text": [
      "dict_values([21, 25, 35])\n"
     ]
    }
   ],
   "source": [
    "print(new_dict_1.values())"
   ]
  },
  {
   "cell_type": "code",
   "execution_count": 181,
   "id": "ec485f5f",
   "metadata": {},
   "outputs": [],
   "source": [
    "febi_future_age = new_dict_1[\"febisola\"] + 10"
   ]
  },
  {
   "cell_type": "code",
   "execution_count": 182,
   "id": "463b3db7",
   "metadata": {},
   "outputs": [
    {
     "name": "stdout",
     "output_type": "stream",
     "text": [
      "35\n"
     ]
    }
   ],
   "source": [
    "print(febi_future_age)"
   ]
  },
  {
   "cell_type": "markdown",
   "id": "b8a50620",
   "metadata": {},
   "source": [
    "## LIST "
   ]
  },
  {
   "cell_type": "markdown",
   "id": "697fbbce",
   "metadata": {},
   "source": [
    "List are the most important python data structure for data individuals, its identified by its open and enclosed square bracket [ ]. List are mutable, meaning they can be altered , you can remove and add an element."
   ]
  },
  {
   "cell_type": "code",
   "execution_count": 10,
   "id": "f08b5730",
   "metadata": {},
   "outputs": [],
   "source": [
    "# List\n",
    "\n",
    "new_list = [2, 4, 5.7, \"mayor\", True, False]"
   ]
  },
  {
   "cell_type": "code",
   "execution_count": 11,
   "id": "3b8c9e71",
   "metadata": {},
   "outputs": [
    {
     "name": "stdout",
     "output_type": "stream",
     "text": [
      "[2, 4, 5.7, 'mayor', True, False]\n"
     ]
    }
   ],
   "source": [
    "print(new_list)"
   ]
  },
  {
   "cell_type": "code",
   "execution_count": 12,
   "id": "48f95401",
   "metadata": {},
   "outputs": [
    {
     "name": "stdout",
     "output_type": "stream",
     "text": [
      "<class 'list'>\n"
     ]
    }
   ],
   "source": [
    "print(type(new_list))"
   ]
  },
  {
   "cell_type": "markdown",
   "id": "e73cf639",
   "metadata": {},
   "source": [
    "### Appending new element into a list"
   ]
  },
  {
   "cell_type": "code",
   "execution_count": 13,
   "id": "34a334b5",
   "metadata": {},
   "outputs": [],
   "source": [
    "new_list = [\"mayowa\", \"ebun\", \"omoba\", \"febisola\", \"funbi\"]"
   ]
  },
  {
   "cell_type": "code",
   "execution_count": 14,
   "id": "54f0e684",
   "metadata": {},
   "outputs": [
    {
     "name": "stdout",
     "output_type": "stream",
     "text": [
      "['mayowa', 'ebun', 'omoba', 'febisola', 'funbi']\n"
     ]
    }
   ],
   "source": [
    "print(new_list)"
   ]
  },
  {
   "cell_type": "code",
   "execution_count": 15,
   "id": "b9f7ef2e",
   "metadata": {},
   "outputs": [],
   "source": [
    "new_list.append(\"zane\")"
   ]
  },
  {
   "cell_type": "code",
   "execution_count": 16,
   "id": "d8ff0f2d",
   "metadata": {},
   "outputs": [
    {
     "name": "stdout",
     "output_type": "stream",
     "text": [
      "['mayowa', 'ebun', 'omoba', 'febisola', 'funbi', 'zane']\n"
     ]
    }
   ],
   "source": [
    "print(new_list)"
   ]
  },
  {
   "cell_type": "code",
   "execution_count": 17,
   "id": "1aedc3cd",
   "metadata": {},
   "outputs": [],
   "source": [
    "new_list.remove(\"zane\")"
   ]
  },
  {
   "cell_type": "code",
   "execution_count": 18,
   "id": "05205e6d",
   "metadata": {},
   "outputs": [
    {
     "name": "stdout",
     "output_type": "stream",
     "text": [
      "['mayowa', 'ebun', 'omoba', 'febisola', 'funbi']\n"
     ]
    }
   ],
   "source": [
    "print(new_list)"
   ]
  },
  {
   "cell_type": "code",
   "execution_count": 31,
   "id": "c732fc34",
   "metadata": {},
   "outputs": [
    {
     "ename": "TypeError",
     "evalue": "append() takes exactly one argument (2 given)",
     "output_type": "error",
     "traceback": [
      "\u001b[0;31m---------------------------------------------------------------------------\u001b[0m",
      "\u001b[0;31mTypeError\u001b[0m                                 Traceback (most recent call last)",
      "\u001b[0;32m<ipython-input-31-cf569cfd4ae8>\u001b[0m in \u001b[0;36m<module>\u001b[0;34m\u001b[0m\n\u001b[1;32m      1\u001b[0m \u001b[0;31m# Note, you can only add one element at a time, adding 2 will throw an error/exception\u001b[0m\u001b[0;34m\u001b[0m\u001b[0;34m\u001b[0m\u001b[0;34m\u001b[0m\u001b[0m\n\u001b[0;32m----> 2\u001b[0;31m \u001b[0mnew_list\u001b[0m\u001b[0;34m.\u001b[0m\u001b[0mappend\u001b[0m\u001b[0;34m(\u001b[0m\u001b[0;34m\"zane\"\u001b[0m\u001b[0;34m,\u001b[0m \u001b[0;34m\"dieko\"\u001b[0m\u001b[0;34m)\u001b[0m\u001b[0;34m\u001b[0m\u001b[0;34m\u001b[0m\u001b[0m\n\u001b[0m",
      "\u001b[0;31mTypeError\u001b[0m: append() takes exactly one argument (2 given)"
     ]
    }
   ],
   "source": [
    "# Note, you can only add one element at a time, adding 2 will throw an error/exception\n",
    "new_list.append(\"zane\", \"dieko\")"
   ]
  },
  {
   "cell_type": "code",
   "execution_count": 20,
   "id": "9e8b8c6e",
   "metadata": {},
   "outputs": [
    {
     "ename": "TypeError",
     "evalue": "remove() takes exactly one argument (2 given)",
     "output_type": "error",
     "traceback": [
      "\u001b[0;31m---------------------------------------------------------------------------\u001b[0m",
      "\u001b[0;31mTypeError\u001b[0m                                 Traceback (most recent call last)",
      "\u001b[0;32m<ipython-input-20-debff09e2ff2>\u001b[0m in \u001b[0;36m<module>\u001b[0;34m\u001b[0m\n\u001b[0;32m----> 1\u001b[0;31m \u001b[0mnew_list\u001b[0m\u001b[0;34m.\u001b[0m\u001b[0mremove\u001b[0m\u001b[0;34m(\u001b[0m\u001b[0;34m\"mayowa\"\u001b[0m\u001b[0;34m,\u001b[0m \u001b[0;34m\"ebun\"\u001b[0m\u001b[0;34m)\u001b[0m\u001b[0;34m\u001b[0m\u001b[0;34m\u001b[0m\u001b[0m\n\u001b[0m",
      "\u001b[0;31mTypeError\u001b[0m: remove() takes exactly one argument (2 given)"
     ]
    }
   ],
   "source": [
    "#Note, you can only remove one element at a time , removing 2 will throw an error/exception\n",
    "new_list.remove(\"mayowa\", \"ebun\")"
   ]
  },
  {
   "cell_type": "markdown",
   "id": "f5ade805",
   "metadata": {},
   "source": [
    "### Converting tuple to list and list back to tuple after appending "
   ]
  },
  {
   "cell_type": "code",
   "execution_count": 21,
   "id": "c816cf4e",
   "metadata": {},
   "outputs": [],
   "source": [
    "new_tuple = (2, 3, 4, 5)"
   ]
  },
  {
   "cell_type": "code",
   "execution_count": 30,
   "id": "d78f30ae",
   "metadata": {},
   "outputs": [
    {
     "ename": "AttributeError",
     "evalue": "'tuple' object has no attribute 'append'",
     "output_type": "error",
     "traceback": [
      "\u001b[0;31m---------------------------------------------------------------------------\u001b[0m",
      "\u001b[0;31mAttributeError\u001b[0m                            Traceback (most recent call last)",
      "\u001b[0;32m<ipython-input-30-c88ff059971b>\u001b[0m in \u001b[0;36m<module>\u001b[0;34m\u001b[0m\n\u001b[1;32m      1\u001b[0m \u001b[0;31m#Note, you cannot alter what is in a tuple but you can alter what we have in a list\u001b[0m\u001b[0;34m\u001b[0m\u001b[0;34m\u001b[0m\u001b[0;34m\u001b[0m\u001b[0m\n\u001b[1;32m      2\u001b[0m \u001b[0;34m\u001b[0m\u001b[0m\n\u001b[0;32m----> 3\u001b[0;31m \u001b[0mnew_tuple\u001b[0m\u001b[0;34m.\u001b[0m\u001b[0mappend\u001b[0m\u001b[0;34m(\u001b[0m\u001b[0;36m6\u001b[0m\u001b[0;34m)\u001b[0m\u001b[0;34m\u001b[0m\u001b[0;34m\u001b[0m\u001b[0m\n\u001b[0m",
      "\u001b[0;31mAttributeError\u001b[0m: 'tuple' object has no attribute 'append'"
     ]
    }
   ],
   "source": [
    "#Note, you cannot alter what is in a tuple but you can alter what we have in a list\n",
    "\n",
    "new_tuple.append(6)"
   ]
  },
  {
   "cell_type": "code",
   "execution_count": 23,
   "id": "d30c73b2",
   "metadata": {},
   "outputs": [],
   "source": [
    "convert_tuple_to_list = list(new_tuple)"
   ]
  },
  {
   "cell_type": "code",
   "execution_count": 24,
   "id": "5adb6848",
   "metadata": {},
   "outputs": [
    {
     "name": "stdout",
     "output_type": "stream",
     "text": [
      "[2, 3, 4, 5]\n"
     ]
    }
   ],
   "source": [
    "print(convert_tuple_to_list)"
   ]
  },
  {
   "cell_type": "code",
   "execution_count": 25,
   "id": "10e1cab6",
   "metadata": {},
   "outputs": [],
   "source": [
    "convert_tuple_to_list.append(6)"
   ]
  },
  {
   "cell_type": "code",
   "execution_count": 26,
   "id": "3c44e45c",
   "metadata": {},
   "outputs": [
    {
     "name": "stdout",
     "output_type": "stream",
     "text": [
      "[2, 3, 4, 5, 6]\n"
     ]
    }
   ],
   "source": [
    "print(convert_tuple_to_list)"
   ]
  },
  {
   "cell_type": "code",
   "execution_count": 27,
   "id": "a4ea2cbb",
   "metadata": {},
   "outputs": [],
   "source": [
    "convert_list_to_tuple = tuple(convert_tuple_to_list)"
   ]
  },
  {
   "cell_type": "code",
   "execution_count": 28,
   "id": "4368569b",
   "metadata": {},
   "outputs": [
    {
     "name": "stdout",
     "output_type": "stream",
     "text": [
      "(2, 3, 4, 5, 6)\n"
     ]
    }
   ],
   "source": [
    "print(convert_list_to_tuple)"
   ]
  },
  {
   "cell_type": "markdown",
   "id": "0dca00c7",
   "metadata": {},
   "source": [
    "### Python indexing "
   ]
  },
  {
   "cell_type": "markdown",
   "id": "9bb6a7af",
   "metadata": {},
   "source": [
    "Human starts reading numbers from 1, however, python starts from 0\n",
    "\n",
    "Human: A U T O M O B I L E\n",
    "       1 2 3 4 5 6 7 8 9 10\n",
    "       \n",
    "Python: A U T O M O B I L E\n",
    "        0 1 2 3 4 5 6 7 8 9"
   ]
  },
  {
   "cell_type": "code",
   "execution_count": 32,
   "id": "2b85974b",
   "metadata": {},
   "outputs": [],
   "source": [
    "car = \"Benz\""
   ]
  },
  {
   "cell_type": "code",
   "execution_count": 33,
   "id": "b0ac3e98",
   "metadata": {},
   "outputs": [],
   "source": [
    "z_index = car[3]"
   ]
  },
  {
   "cell_type": "code",
   "execution_count": 34,
   "id": "ab1e197d",
   "metadata": {},
   "outputs": [
    {
     "name": "stdout",
     "output_type": "stream",
     "text": [
      "z\n"
     ]
    }
   ],
   "source": [
    "print(z_index)"
   ]
  },
  {
   "cell_type": "code",
   "execution_count": 143,
   "id": "cc0dfd40",
   "metadata": {},
   "outputs": [
    {
     "name": "stdout",
     "output_type": "stream",
     "text": [
      "z\n"
     ]
    }
   ],
   "source": [
    "# to remove the last item, we use -1\n",
    "print(car[-1])"
   ]
  },
  {
   "cell_type": "code",
   "execution_count": 35,
   "id": "9afb53c2",
   "metadata": {},
   "outputs": [
    {
     "name": "stdout",
     "output_type": "stream",
     "text": [
      "B\n"
     ]
    }
   ],
   "source": [
    "print(car[0])"
   ]
  },
  {
   "cell_type": "code",
   "execution_count": 36,
   "id": "2c495f6a",
   "metadata": {},
   "outputs": [
    {
     "name": "stdout",
     "output_type": "stream",
     "text": [
      "e\n"
     ]
    }
   ],
   "source": [
    "print(car[1])"
   ]
  },
  {
   "cell_type": "code",
   "execution_count": 39,
   "id": "cd87cfea",
   "metadata": {},
   "outputs": [
    {
     "name": "stdout",
     "output_type": "stream",
     "text": [
      "enz\n"
     ]
    }
   ],
   "source": [
    "#slicing\n",
    "\n",
    "print(car[1:4])"
   ]
  },
  {
   "cell_type": "code",
   "execution_count": 41,
   "id": "4c4b90c4",
   "metadata": {},
   "outputs": [
    {
     "name": "stdout",
     "output_type": "stream",
     "text": [
      "enz\n"
     ]
    }
   ],
   "source": [
    "print(car[1:])"
   ]
  },
  {
   "cell_type": "code",
   "execution_count": 40,
   "id": "72eb1d22",
   "metadata": {},
   "outputs": [
    {
     "name": "stdout",
     "output_type": "stream",
     "text": [
      "Ben\n"
     ]
    }
   ],
   "source": [
    "print(car[0:3])"
   ]
  },
  {
   "cell_type": "code",
   "execution_count": 42,
   "id": "cf17e07e",
   "metadata": {},
   "outputs": [
    {
     "name": "stdout",
     "output_type": "stream",
     "text": [
      "Ben\n"
     ]
    }
   ],
   "source": [
    "print(car[:3])"
   ]
  },
  {
   "cell_type": "markdown",
   "id": "55bfe784",
   "metadata": {},
   "source": [
    "### Counting total characters in a string or total element in a list using len() function"
   ]
  },
  {
   "cell_type": "code",
   "execution_count": 44,
   "id": "23e55dec",
   "metadata": {},
   "outputs": [],
   "source": [
    "# The len function only works for strings data types.\n",
    "full_name = \"mayor\""
   ]
  },
  {
   "cell_type": "code",
   "execution_count": 45,
   "id": "cf59fcda",
   "metadata": {},
   "outputs": [],
   "source": [
    "total_alphabet = len(full_name)"
   ]
  },
  {
   "cell_type": "code",
   "execution_count": 46,
   "id": "caa1e6fe",
   "metadata": {},
   "outputs": [
    {
     "name": "stdout",
     "output_type": "stream",
     "text": [
      "5\n"
     ]
    }
   ],
   "source": [
    "print(total_alphabet)"
   ]
  },
  {
   "cell_type": "code",
   "execution_count": 47,
   "id": "ef78b3b4",
   "metadata": {},
   "outputs": [],
   "source": [
    "numbers = [2, 1, 4, 5]"
   ]
  },
  {
   "cell_type": "code",
   "execution_count": 48,
   "id": "e4aad31d",
   "metadata": {},
   "outputs": [],
   "source": [
    "total_numbers = len(numbers)"
   ]
  },
  {
   "cell_type": "code",
   "execution_count": 49,
   "id": "1d1598d5",
   "metadata": {},
   "outputs": [
    {
     "name": "stdout",
     "output_type": "stream",
     "text": [
      "4\n"
     ]
    }
   ],
   "source": [
    "print(total_numbers)"
   ]
  },
  {
   "cell_type": "code",
   "execution_count": 3,
   "id": "d253b5da",
   "metadata": {},
   "outputs": [],
   "source": [
    "full_name = \"mayowa akinyele\""
   ]
  },
  {
   "cell_type": "code",
   "execution_count": 4,
   "id": "df4c7e05",
   "metadata": {},
   "outputs": [
    {
     "name": "stdout",
     "output_type": "stream",
     "text": [
      "15\n"
     ]
    }
   ],
   "source": [
    "print(len(full_name))"
   ]
  },
  {
   "cell_type": "code",
   "execution_count": 61,
   "id": "64d7302b",
   "metadata": {},
   "outputs": [],
   "source": [
    "# When a list is inside another list, its called nested list\n",
    "nested_list = [1, \"febi\", \"mayowa\", 3, [1, 2]]"
   ]
  },
  {
   "cell_type": "code",
   "execution_count": 62,
   "id": "fbe09f97",
   "metadata": {},
   "outputs": [
    {
     "name": "stdout",
     "output_type": "stream",
     "text": [
      "5\n"
     ]
    }
   ],
   "source": [
    "print(len(nested_list))"
   ]
  },
  {
   "cell_type": "code",
   "execution_count": 50,
   "id": "656c25a6",
   "metadata": {},
   "outputs": [],
   "source": [
    "age = 25"
   ]
  },
  {
   "cell_type": "code",
   "execution_count": 51,
   "id": "a185a5e0",
   "metadata": {},
   "outputs": [
    {
     "ename": "TypeError",
     "evalue": "object of type 'int' has no len()",
     "output_type": "error",
     "traceback": [
      "\u001b[0;31m---------------------------------------------------------------------------\u001b[0m",
      "\u001b[0;31mTypeError\u001b[0m                                 Traceback (most recent call last)",
      "\u001b[0;32m<ipython-input-51-9ad728865211>\u001b[0m in \u001b[0;36m<module>\u001b[0;34m\u001b[0m\n\u001b[0;32m----> 1\u001b[0;31m \u001b[0mtotal_age\u001b[0m \u001b[0;34m=\u001b[0m \u001b[0mlen\u001b[0m\u001b[0;34m(\u001b[0m\u001b[0mage\u001b[0m\u001b[0;34m)\u001b[0m\u001b[0;34m\u001b[0m\u001b[0;34m\u001b[0m\u001b[0m\n\u001b[0m",
      "\u001b[0;31mTypeError\u001b[0m: object of type 'int' has no len()"
     ]
    }
   ],
   "source": [
    "total_age = len(age)"
   ]
  },
  {
   "cell_type": "code",
   "execution_count": 54,
   "id": "98262c6d",
   "metadata": {},
   "outputs": [],
   "source": [
    "new_num = \"100\""
   ]
  },
  {
   "cell_type": "code",
   "execution_count": 55,
   "id": "a56ab8aa",
   "metadata": {},
   "outputs": [
    {
     "name": "stdout",
     "output_type": "stream",
     "text": [
      "3\n"
     ]
    }
   ],
   "source": [
    "print(len(new_num))"
   ]
  },
  {
   "cell_type": "code",
   "execution_count": 52,
   "id": "c2ea4be6",
   "metadata": {},
   "outputs": [],
   "source": [
    "height = 3.6"
   ]
  },
  {
   "cell_type": "code",
   "execution_count": 53,
   "id": "2a8c6671",
   "metadata": {},
   "outputs": [
    {
     "ename": "TypeError",
     "evalue": "object of type 'float' has no len()",
     "output_type": "error",
     "traceback": [
      "\u001b[0;31m---------------------------------------------------------------------------\u001b[0m",
      "\u001b[0;31mTypeError\u001b[0m                                 Traceback (most recent call last)",
      "\u001b[0;32m<ipython-input-53-6026c05a3d48>\u001b[0m in \u001b[0;36m<module>\u001b[0;34m\u001b[0m\n\u001b[0;32m----> 1\u001b[0;31m \u001b[0mtotal_age\u001b[0m \u001b[0;34m=\u001b[0m \u001b[0mlen\u001b[0m\u001b[0;34m(\u001b[0m\u001b[0mheight\u001b[0m\u001b[0;34m)\u001b[0m\u001b[0;34m\u001b[0m\u001b[0;34m\u001b[0m\u001b[0m\n\u001b[0m",
      "\u001b[0;31mTypeError\u001b[0m: object of type 'float' has no len()"
     ]
    }
   ],
   "source": [
    "total_age = len(height)"
   ]
  },
  {
   "cell_type": "markdown",
   "id": "f1b7efe4",
   "metadata": {},
   "source": [
    "## Sorting in Python "
   ]
  },
  {
   "cell_type": "code",
   "execution_count": 1,
   "id": "6074e1e7",
   "metadata": {},
   "outputs": [],
   "source": [
    "numbers = [3, 7, 9, 2, 6, 0, 1, 8]"
   ]
  },
  {
   "cell_type": "code",
   "execution_count": 2,
   "id": "29f82c44",
   "metadata": {},
   "outputs": [],
   "source": [
    "numbers.sort()"
   ]
  },
  {
   "cell_type": "code",
   "execution_count": 3,
   "id": "854498db",
   "metadata": {},
   "outputs": [
    {
     "name": "stdout",
     "output_type": "stream",
     "text": [
      "[0, 1, 2, 3, 6, 7, 8, 9]\n"
     ]
    }
   ],
   "source": [
    "print(numbers)"
   ]
  },
  {
   "cell_type": "code",
   "execution_count": 4,
   "id": "469d4ce3",
   "metadata": {},
   "outputs": [],
   "source": [
    "numbers.sort(reverse = True)"
   ]
  },
  {
   "cell_type": "code",
   "execution_count": 5,
   "id": "5a3d753b",
   "metadata": {},
   "outputs": [
    {
     "name": "stdout",
     "output_type": "stream",
     "text": [
      "[9, 8, 7, 6, 3, 2, 1, 0]\n"
     ]
    }
   ],
   "source": [
    "print(numbers)"
   ]
  },
  {
   "cell_type": "markdown",
   "id": "41f79d11",
   "metadata": {},
   "source": [
    "## Accessing an item from a nested list "
   ]
  },
  {
   "cell_type": "code",
   "execution_count": 131,
   "id": "446b8042",
   "metadata": {},
   "outputs": [],
   "source": [
    "nested_1 = [1, 2, [3, 4]]"
   ]
  },
  {
   "cell_type": "code",
   "execution_count": 133,
   "id": "89920adf",
   "metadata": {},
   "outputs": [
    {
     "name": "stdout",
     "output_type": "stream",
     "text": [
      "3\n"
     ]
    }
   ],
   "source": [
    "print(nested_1[-1][-2])"
   ]
  },
  {
   "cell_type": "code",
   "execution_count": 134,
   "id": "58f53a28",
   "metadata": {},
   "outputs": [],
   "source": [
    "nested_2 = [[1, 3], [10, 20]]"
   ]
  },
  {
   "cell_type": "code",
   "execution_count": 137,
   "id": "1587b2f3",
   "metadata": {},
   "outputs": [
    {
     "name": "stdout",
     "output_type": "stream",
     "text": [
      "1\n"
     ]
    }
   ],
   "source": [
    "print(nested_2[0][-2])"
   ]
  },
  {
   "cell_type": "code",
   "execution_count": 138,
   "id": "fd00699c",
   "metadata": {},
   "outputs": [],
   "source": [
    "nested_2 = [[1, 3], [10, 20], [2, [100, 200]]]"
   ]
  },
  {
   "cell_type": "code",
   "execution_count": 141,
   "id": "ab799089",
   "metadata": {},
   "outputs": [
    {
     "name": "stdout",
     "output_type": "stream",
     "text": [
      "100\n"
     ]
    }
   ],
   "source": [
    "print(nested_2[-1][-1][0])"
   ]
  },
  {
   "cell_type": "markdown",
   "id": "dde902b4",
   "metadata": {},
   "source": [
    "### Adding 2 or more list together "
   ]
  },
  {
   "cell_type": "code",
   "execution_count": 56,
   "id": "3e16fd51",
   "metadata": {},
   "outputs": [],
   "source": [
    "list_1 = [1, 2]\n",
    "list_2 = [10, 20]\n"
   ]
  },
  {
   "cell_type": "code",
   "execution_count": 144,
   "id": "5599cbe7",
   "metadata": {},
   "outputs": [
    {
     "name": "stdout",
     "output_type": "stream",
     "text": [
      "[1, 2, 10, 20]\n"
     ]
    }
   ],
   "source": [
    "print(list_1 + list_2)"
   ]
  },
  {
   "cell_type": "markdown",
   "id": "7f8ce5c0",
   "metadata": {},
   "source": [
    "### Empty list operation "
   ]
  },
  {
   "cell_type": "code",
   "execution_count": 145,
   "id": "6fd29ed8",
   "metadata": {},
   "outputs": [],
   "source": [
    "empty_list = []"
   ]
  },
  {
   "cell_type": "code",
   "execution_count": 146,
   "id": "92269fb9",
   "metadata": {},
   "outputs": [
    {
     "name": "stdout",
     "output_type": "stream",
     "text": [
      "[]\n"
     ]
    }
   ],
   "source": [
    "print(empty_list)"
   ]
  },
  {
   "cell_type": "code",
   "execution_count": 147,
   "id": "e00b7d57",
   "metadata": {},
   "outputs": [
    {
     "name": "stdout",
     "output_type": "stream",
     "text": [
      "<class 'list'>\n"
     ]
    }
   ],
   "source": [
    "print(type(empty_list))"
   ]
  },
  {
   "cell_type": "code",
   "execution_count": 148,
   "id": "8e42755d",
   "metadata": {},
   "outputs": [],
   "source": [
    "empty_list.append(1)"
   ]
  },
  {
   "cell_type": "code",
   "execution_count": 149,
   "id": "055dc433",
   "metadata": {},
   "outputs": [],
   "source": [
    "empty_list.append(2)"
   ]
  },
  {
   "cell_type": "code",
   "execution_count": 150,
   "id": "dcccc485",
   "metadata": {},
   "outputs": [],
   "source": [
    "empty_list.append(3)"
   ]
  },
  {
   "cell_type": "code",
   "execution_count": 151,
   "id": "4098f320",
   "metadata": {},
   "outputs": [
    {
     "name": "stdout",
     "output_type": "stream",
     "text": [
      "[1, 2, 3]\n"
     ]
    }
   ],
   "source": [
    "print(empty_list)"
   ]
  },
  {
   "cell_type": "markdown",
   "id": "730f74d0",
   "metadata": {},
   "source": [
    "### Re-assignment of elements in a list "
   ]
  },
  {
   "cell_type": "code",
   "execution_count": 152,
   "id": "f16e62aa",
   "metadata": {},
   "outputs": [],
   "source": [
    "x = [1, 2, 3]"
   ]
  },
  {
   "cell_type": "code",
   "execution_count": 153,
   "id": "6b3b8e7d",
   "metadata": {},
   "outputs": [],
   "source": [
    "x[0] = 10"
   ]
  },
  {
   "cell_type": "code",
   "execution_count": 154,
   "id": "c2c334bf",
   "metadata": {},
   "outputs": [
    {
     "name": "stdout",
     "output_type": "stream",
     "text": [
      "[10, 2, 3]\n"
     ]
    }
   ],
   "source": [
    "print(x)"
   ]
  },
  {
   "cell_type": "markdown",
   "id": "b9380c7c",
   "metadata": {},
   "source": [
    "## Python range function"
   ]
  },
  {
   "cell_type": "code",
   "execution_count": 157,
   "id": "d99d4d9a",
   "metadata": {},
   "outputs": [],
   "source": [
    "lst = range(10)"
   ]
  },
  {
   "cell_type": "code",
   "execution_count": 158,
   "id": "f3afec06",
   "metadata": {},
   "outputs": [
    {
     "name": "stdout",
     "output_type": "stream",
     "text": [
      "range(0, 10)\n"
     ]
    }
   ],
   "source": [
    "print(lst)"
   ]
  },
  {
   "cell_type": "code",
   "execution_count": 159,
   "id": "b3b6d9dc",
   "metadata": {},
   "outputs": [
    {
     "name": "stdout",
     "output_type": "stream",
     "text": [
      "[0, 1, 2, 3, 4, 5, 6, 7, 8, 9]\n"
     ]
    }
   ],
   "source": [
    "print(list(lst))"
   ]
  },
  {
   "cell_type": "code",
   "execution_count": 160,
   "id": "63b9075e",
   "metadata": {},
   "outputs": [],
   "source": [
    "lst_1 = range(5, 15)"
   ]
  },
  {
   "cell_type": "code",
   "execution_count": 161,
   "id": "13700a2b",
   "metadata": {},
   "outputs": [
    {
     "name": "stdout",
     "output_type": "stream",
     "text": [
      "[5, 6, 7, 8, 9, 10, 11, 12, 13, 14]\n"
     ]
    }
   ],
   "source": [
    "print(list(lst_1))"
   ]
  },
  {
   "cell_type": "markdown",
   "id": "6d1e53c3",
   "metadata": {},
   "source": [
    "## IN and NOT IN Operator "
   ]
  },
  {
   "cell_type": "markdown",
   "id": "5ec4669d",
   "metadata": {},
   "source": [
    "### IN "
   ]
  },
  {
   "cell_type": "code",
   "execution_count": 5,
   "id": "8532b285",
   "metadata": {},
   "outputs": [],
   "source": [
    "lst = [2, 4, 6, 7, \"dele\"]"
   ]
  },
  {
   "cell_type": "code",
   "execution_count": 6,
   "id": "216dee4d",
   "metadata": {},
   "outputs": [
    {
     "name": "stdout",
     "output_type": "stream",
     "text": [
      "False\n"
     ]
    }
   ],
   "source": [
    "print(10 in lst)"
   ]
  },
  {
   "cell_type": "code",
   "execution_count": 13,
   "id": "089dfcc4",
   "metadata": {},
   "outputs": [],
   "source": [
    "text = \"we are looking for a data engineer\""
   ]
  },
  {
   "cell_type": "code",
   "execution_count": 9,
   "id": "a9f7a63f",
   "metadata": {},
   "outputs": [
    {
     "name": "stdout",
     "output_type": "stream",
     "text": [
      "False\n"
     ]
    }
   ],
   "source": [
    "print(\"analyst\" in text)"
   ]
  },
  {
   "cell_type": "code",
   "execution_count": 10,
   "id": "5fee026d",
   "metadata": {},
   "outputs": [
    {
     "name": "stdout",
     "output_type": "stream",
     "text": [
      "True\n"
     ]
    }
   ],
   "source": [
    "print(\"engineer\" in text)"
   ]
  },
  {
   "cell_type": "code",
   "execution_count": 14,
   "id": "8859658e",
   "metadata": {},
   "outputs": [
    {
     "name": "stdout",
     "output_type": "stream",
     "text": [
      "True\n"
     ]
    }
   ],
   "source": [
    "print(\" \" in text)"
   ]
  },
  {
   "cell_type": "markdown",
   "id": "79ea27fa",
   "metadata": {},
   "source": [
    "### NOT IN "
   ]
  },
  {
   "cell_type": "code",
   "execution_count": 16,
   "id": "bff0be36",
   "metadata": {},
   "outputs": [],
   "source": [
    "country = \"Germany\""
   ]
  },
  {
   "cell_type": "code",
   "execution_count": 17,
   "id": "7e4592fa",
   "metadata": {},
   "outputs": [
    {
     "name": "stdout",
     "output_type": "stream",
     "text": [
      "True\n"
     ]
    }
   ],
   "source": [
    "print(\"k\" not in country)"
   ]
  },
  {
   "cell_type": "code",
   "execution_count": 18,
   "id": "3d3df4e8",
   "metadata": {},
   "outputs": [],
   "source": [
    "grades = [23, 56, 34, 98]"
   ]
  },
  {
   "cell_type": "code",
   "execution_count": 19,
   "id": "0f2c4e04",
   "metadata": {},
   "outputs": [
    {
     "name": "stdout",
     "output_type": "stream",
     "text": [
      "False\n"
     ]
    }
   ],
   "source": [
    "print(23 not in grades)"
   ]
  },
  {
   "cell_type": "markdown",
   "id": "f47f5c3d",
   "metadata": {},
   "source": [
    "### TODO Replace function, remove whitespace(strip), split, string methods(isupper,endswith, startswith)"
   ]
  },
  {
   "cell_type": "markdown",
   "id": "e634cb3b",
   "metadata": {},
   "source": [
    "https://www.w3schools.com/python/python_strings_methods.asp"
   ]
  },
  {
   "cell_type": "markdown",
   "id": "0fa05c6b",
   "metadata": {},
   "source": [
    "https://www.w3schools.com/python/python_operators.asp"
   ]
  },
  {
   "cell_type": "code",
   "execution_count": 21,
   "id": "93ddd1c4",
   "metadata": {},
   "outputs": [],
   "source": [
    "c = (2, 3, 4)"
   ]
  },
  {
   "cell_type": "code",
   "execution_count": 23,
   "id": "a632f0ae",
   "metadata": {},
   "outputs": [
    {
     "name": "stdout",
     "output_type": "stream",
     "text": [
      "<class 'tuple'>\n"
     ]
    }
   ],
   "source": [
    "print(type(c))"
   ]
  },
  {
   "cell_type": "code",
   "execution_count": 24,
   "id": "d78a147d",
   "metadata": {},
   "outputs": [
    {
     "data": {
      "text/plain": [
       "[2, 3, 4]"
      ]
     },
     "execution_count": 24,
     "metadata": {},
     "output_type": "execute_result"
    }
   ],
   "source": [
    "list(c)"
   ]
  },
  {
   "cell_type": "code",
   "execution_count": 25,
   "id": "977436e8",
   "metadata": {},
   "outputs": [],
   "source": [
    "lst = [3, 5]"
   ]
  },
  {
   "cell_type": "code",
   "execution_count": 26,
   "id": "3dfdecdb",
   "metadata": {},
   "outputs": [
    {
     "name": "stdout",
     "output_type": "stream",
     "text": [
      "<class 'list'>\n"
     ]
    }
   ],
   "source": [
    "print(type(lst))"
   ]
  },
  {
   "cell_type": "code",
   "execution_count": 27,
   "id": "88e3a542",
   "metadata": {},
   "outputs": [
    {
     "data": {
      "text/plain": [
       "(3, 5)"
      ]
     },
     "execution_count": 27,
     "metadata": {},
     "output_type": "execute_result"
    }
   ],
   "source": [
    "tuple(lst)"
   ]
  },
  {
   "cell_type": "markdown",
   "id": "4a8e5623",
   "metadata": {},
   "source": [
    "### startswith and endswith function in python "
   ]
  },
  {
   "cell_type": "code",
   "execution_count": 1,
   "id": "b80f2e20",
   "metadata": {},
   "outputs": [],
   "source": [
    "name = \"mayowa\""
   ]
  },
  {
   "cell_type": "code",
   "execution_count": 2,
   "id": "9273268f",
   "metadata": {},
   "outputs": [
    {
     "name": "stdout",
     "output_type": "stream",
     "text": [
      "True\n"
     ]
    }
   ],
   "source": [
    "print(name.startswith(\"m\"))"
   ]
  },
  {
   "cell_type": "code",
   "execution_count": 3,
   "id": "16895887",
   "metadata": {},
   "outputs": [
    {
     "name": "stdout",
     "output_type": "stream",
     "text": [
      "False\n"
     ]
    }
   ],
   "source": [
    "print(name.startswith(\"M\"))"
   ]
  },
  {
   "cell_type": "code",
   "execution_count": 4,
   "id": "2d34dced",
   "metadata": {},
   "outputs": [
    {
     "name": "stdout",
     "output_type": "stream",
     "text": [
      "False\n"
     ]
    }
   ],
   "source": [
    "print(name.endswith(\"m\"))"
   ]
  },
  {
   "cell_type": "code",
   "execution_count": 5,
   "id": "5bcdf140",
   "metadata": {},
   "outputs": [
    {
     "name": "stdout",
     "output_type": "stream",
     "text": [
      "True\n"
     ]
    }
   ],
   "source": [
    "print(name.endswith(\"a\"))"
   ]
  },
  {
   "cell_type": "code",
   "execution_count": null,
   "id": "3288242f",
   "metadata": {},
   "outputs": [],
   "source": []
  }
 ],
 "metadata": {
  "kernelspec": {
   "display_name": "Python 3",
   "language": "python",
   "name": "python3"
  },
  "language_info": {
   "codemirror_mode": {
    "name": "ipython",
    "version": 3
   },
   "file_extension": ".py",
   "mimetype": "text/x-python",
   "name": "python",
   "nbconvert_exporter": "python",
   "pygments_lexer": "ipython3",
   "version": "3.8.8"
  }
 },
 "nbformat": 4,
 "nbformat_minor": 5
}
