{
 "cells": [
  {
   "cell_type": "markdown",
   "id": "44b03165",
   "metadata": {},
   "source": [
    "# CONTROL  FLOW IN PYTHON"
   ]
  },
  {
   "cell_type": "markdown",
   "id": "5c241b81",
   "metadata": {},
   "source": [
    "### Comparison Operators in Python "
   ]
  },
  {
   "cell_type": "markdown",
   "id": "a024ae25",
   "metadata": {},
   "source": [
    "It's important to understand and be able to identify different comparison operators in python before diving into control flows , this will also allow us to have good understanding when it get to the level where we need to build complex programs.\n",
    "Some of the comparison operators includes....\n",
    "\n",
    "- Greater than   >\n",
    "- Greater than or equal to  >=\n",
    "- Less than  <\n",
    "- Less than or equal to  <=\n",
    "- equal to  ==\n",
    "- not equal to  !="
   ]
  },
  {
   "cell_type": "code",
   "execution_count": 1,
   "id": "41e48f81",
   "metadata": {},
   "outputs": [
    {
     "name": "stdout",
     "output_type": "stream",
     "text": [
      "True\n"
     ]
    }
   ],
   "source": [
    "print(5 > 2)"
   ]
  },
  {
   "cell_type": "code",
   "execution_count": 2,
   "id": "aed9f139",
   "metadata": {},
   "outputs": [
    {
     "name": "stdout",
     "output_type": "stream",
     "text": [
      "False\n"
     ]
    }
   ],
   "source": [
    "print(11 < 3)"
   ]
  },
  {
   "cell_type": "code",
   "execution_count": 3,
   "id": "4fd84e94",
   "metadata": {},
   "outputs": [
    {
     "name": "stdout",
     "output_type": "stream",
     "text": [
      "False\n"
     ]
    }
   ],
   "source": [
    "print(10 > 10)"
   ]
  },
  {
   "cell_type": "code",
   "execution_count": 4,
   "id": "19d04bdb",
   "metadata": {},
   "outputs": [
    {
     "name": "stdout",
     "output_type": "stream",
     "text": [
      "True\n"
     ]
    }
   ],
   "source": [
    "print(10 >= 10)"
   ]
  },
  {
   "cell_type": "code",
   "execution_count": 5,
   "id": "c305facc",
   "metadata": {},
   "outputs": [
    {
     "name": "stdout",
     "output_type": "stream",
     "text": [
      "False\n"
     ]
    }
   ],
   "source": [
    "print(10 >= 11)"
   ]
  },
  {
   "cell_type": "code",
   "execution_count": 6,
   "id": "26f35c2a",
   "metadata": {},
   "outputs": [
    {
     "name": "stdout",
     "output_type": "stream",
     "text": [
      "True\n"
     ]
    }
   ],
   "source": [
    "print(5 <= 6)"
   ]
  },
  {
   "cell_type": "code",
   "execution_count": 7,
   "id": "ab37b102",
   "metadata": {},
   "outputs": [
    {
     "name": "stdout",
     "output_type": "stream",
     "text": [
      "True\n"
     ]
    }
   ],
   "source": [
    "print(13 <= 13.0)"
   ]
  },
  {
   "cell_type": "code",
   "execution_count": 8,
   "id": "fdf03504",
   "metadata": {},
   "outputs": [
    {
     "name": "stdout",
     "output_type": "stream",
     "text": [
      "True\n"
     ]
    }
   ],
   "source": [
    "print(10 == 10)"
   ]
  },
  {
   "cell_type": "code",
   "execution_count": 9,
   "id": "50ceb22b",
   "metadata": {},
   "outputs": [
    {
     "name": "stdout",
     "output_type": "stream",
     "text": [
      "False\n"
     ]
    }
   ],
   "source": [
    "print(10 == \"10\")"
   ]
  },
  {
   "cell_type": "code",
   "execution_count": 10,
   "id": "06abcce3",
   "metadata": {},
   "outputs": [
    {
     "name": "stdout",
     "output_type": "stream",
     "text": [
      "True\n"
     ]
    }
   ],
   "source": [
    "print(10 == 10.0)"
   ]
  },
  {
   "cell_type": "code",
   "execution_count": 11,
   "id": "e3a85c60",
   "metadata": {},
   "outputs": [
    {
     "name": "stdout",
     "output_type": "stream",
     "text": [
      "False\n"
     ]
    }
   ],
   "source": [
    "print(10 != 10)"
   ]
  },
  {
   "cell_type": "code",
   "execution_count": 12,
   "id": "f8820e57",
   "metadata": {},
   "outputs": [
    {
     "name": "stdout",
     "output_type": "stream",
     "text": [
      "True\n"
     ]
    }
   ],
   "source": [
    "print(10 != 5)"
   ]
  },
  {
   "cell_type": "markdown",
   "id": "c12075e3",
   "metadata": {},
   "source": [
    "### Logical operators in python "
   ]
  },
  {
   "cell_type": "markdown",
   "id": "ddfb357e",
   "metadata": {},
   "source": [
    "Logical operators are heavily used in python and specifically in the control flows, this operators helps us to evaluate 2 different statements if they are True or False, example are .....\n",
    "\n",
    "- and ( & )\n",
    "- or ( | )"
   ]
  },
  {
   "cell_type": "code",
   "execution_count": 24,
   "id": "e4fae8cd",
   "metadata": {},
   "outputs": [
    {
     "name": "stdout",
     "output_type": "stream",
     "text": [
      "True\n"
     ]
    }
   ],
   "source": [
    "print((5 > 6) or (5 < 10))"
   ]
  },
  {
   "cell_type": "code",
   "execution_count": 25,
   "id": "f888af43",
   "metadata": {},
   "outputs": [
    {
     "name": "stdout",
     "output_type": "stream",
     "text": [
      "False\n"
     ]
    }
   ],
   "source": [
    "print((5 > 6) and (5 < 10))"
   ]
  },
  {
   "cell_type": "code",
   "execution_count": 26,
   "id": "61f1fb5a",
   "metadata": {},
   "outputs": [],
   "source": [
    "names = [\"mayor\", \"febisola\"]"
   ]
  },
  {
   "cell_type": "code",
   "execution_count": 29,
   "id": "91afee79",
   "metadata": {},
   "outputs": [
    {
     "name": "stdout",
     "output_type": "stream",
     "text": [
      "False\n"
     ]
    }
   ],
   "source": [
    "print((\"mayor\" in names) and (\"febisolaa\" in names))"
   ]
  },
  {
   "cell_type": "markdown",
   "id": "5bf9b109",
   "metadata": {},
   "source": [
    "## if , elif, else statement "
   ]
  },
  {
   "cell_type": "code",
   "execution_count": 30,
   "id": "1e7ad175",
   "metadata": {},
   "outputs": [],
   "source": [
    "x = 3"
   ]
  },
  {
   "cell_type": "code",
   "execution_count": 31,
   "id": "e70285d5",
   "metadata": {},
   "outputs": [
    {
     "name": "stdout",
     "output_type": "stream",
     "text": [
      "sorry its less than 5\n"
     ]
    }
   ],
   "source": [
    "if x > 5:\n",
    "    print(\"yes its greater than 5\")\n",
    "else:\n",
    "    print(\"sorry its less than 5\")\n",
    "    "
   ]
  },
  {
   "cell_type": "code",
   "execution_count": 33,
   "id": "fc23882f",
   "metadata": {},
   "outputs": [
    {
     "name": "stdout",
     "output_type": "stream",
     "text": [
      "how old are you:   18\n",
      "You are eligible to watch this movie\n"
     ]
    }
   ],
   "source": [
    "movie_age = int(input(\"how old are you:   \"))\n",
    "\n",
    "if movie_age >= 18:\n",
    "    print(\"You are eligible to watch this movie\")\n",
    "else:\n",
    "    print(\"Sorry , you are too young to watch this movie\")"
   ]
  },
  {
   "cell_type": "code",
   "execution_count": 36,
   "id": "ce4d0c5a",
   "metadata": {},
   "outputs": [],
   "source": [
    "magic_number = 10\n",
    "user_number = 3"
   ]
  },
  {
   "cell_type": "code",
   "execution_count": 37,
   "id": "528d3530",
   "metadata": {},
   "outputs": [
    {
     "name": "stdout",
     "output_type": "stream",
     "text": [
      "Oops, the number you provided is less than the magic number\n"
     ]
    }
   ],
   "source": [
    "if user_number == magic_number:\n",
    "    print(\"Yipee, you've won\")\n",
    "elif user_number < magic_number:\n",
    "    print(\"Oops, the number you provided is less than the magic number\")\n",
    "else:\n",
    "    print(\"Oops, the number you provided is greater than the magic number\")"
   ]
  },
  {
   "cell_type": "code",
   "execution_count": 39,
   "id": "b3d74350",
   "metadata": {},
   "outputs": [
    {
     "name": "stdout",
     "output_type": "stream",
     "text": [
      "3\n",
      "please guess the magic number:  7\n",
      "sorry , try again later\n"
     ]
    }
   ],
   "source": [
    "import random\n",
    "\n",
    "magic_number = random.randint(1, 10)\n",
    "\n",
    "print(user_number)\n",
    "\n",
    "user_number = input(\"please guess the magic number:  \")\n",
    "\n",
    "if magic_number == user_number:\n",
    "    print(\"You've won\")\n",
    "else:\n",
    "    print(\"sorry , try again later\")"
   ]
  },
  {
   "cell_type": "code",
   "execution_count": 41,
   "id": "6f6c334c",
   "metadata": {},
   "outputs": [
    {
     "name": "stdout",
     "output_type": "stream",
     "text": [
      "you are not eligible for this loan application\n"
     ]
    }
   ],
   "source": [
    "is_student = False\n",
    "salary = 800\n",
    "\n",
    "\n",
    "if (is_student == False) and (salary >= 2000):\n",
    "    print(\"you are eligible for this loan application\")\n",
    "else:\n",
    "    print(\"you are not eligible for this loan application\")"
   ]
  },
  {
   "cell_type": "code",
   "execution_count": 80,
   "id": "904e7961",
   "metadata": {
    "scrolled": true
   },
   "outputs": [
    {
     "name": "stdout",
     "output_type": "stream",
     "text": [
      "Are you a student, True or False:   False\n",
      "what is your monthly salary after tax:  3000\n",
      "you are eligible for this loan application\n"
     ]
    }
   ],
   "source": [
    "student_status = input(\"Are you a student, True or False:   \")\n",
    "    \n",
    "salary = int(input(\"what is your monthly salary after tax:  \"))\n",
    "\n",
    "if (student_status == \"False\") and (salary >= 2000):\n",
    "    print(\"you are eligible for this loan application\")\n",
    "else:\n",
    "    print(\"you are not eligible for this loan application\")"
   ]
  },
  {
   "cell_type": "code",
   "execution_count": 92,
   "id": "dc8c7991",
   "metadata": {},
   "outputs": [
    {
     "name": "stdout",
     "output_type": "stream",
     "text": [
      "is it raining, True or False:    True\n",
      "is their traffic, True or False:   False\n",
      "The total commute time is 10 mins\n"
     ]
    }
   ],
   "source": [
    "commute_time = 7\n",
    "\n",
    "raining = input(\"is it raining, True or False:    \")\n",
    "traffic = input(\"is their traffic, True or False:   \")\n",
    "\n",
    "raining_default = 3\n",
    "traffic_default = 5\n",
    "\n",
    "\n",
    "if (raining == \"True\") and (traffic == \"True\"):\n",
    "    total = commute_time + raining_default + traffic_default\n",
    "    print(f\"The total commute time is {total} mins\")\n",
    "\n",
    "elif raining == \"True\" and traffic == \"False\":\n",
    "    total = commute_time + raining_default\n",
    "    print(f\"The total commute time is {total} mins\")\n",
    "    \n",
    "elif raining == \"False\" and traffic == \"True\":\n",
    "    total = commute_time + traffic_default\n",
    "    print(f\"The total commute time is {total} mins\")\n",
    "    \n",
    "else:\n",
    "    total = commute_time \n",
    "    print(f\"The total commute time is {total} mins\")"
   ]
  },
  {
   "cell_type": "code",
   "execution_count": 96,
   "id": "ac86f2e0",
   "metadata": {},
   "outputs": [
    {
     "name": "stdout",
     "output_type": "stream",
     "text": [
      "Whats your medium of transportation, Car or Bike:   Bike\n",
      "is it raining, True or False:    True\n",
      "is their traffic, True or False:   True\n",
      "The total commute time is 13 mins\n"
     ]
    }
   ],
   "source": [
    "car_commute = 10\n",
    "bike_commute = 5\n",
    "\n",
    "transportation = input(\"Whats your medium of transportation, Car or Bike:   \")\n",
    "raining = input(\"is it raining, True or False:    \")\n",
    "traffic = input(\"is their traffic, True or False:   \")\n",
    "\n",
    "raining_default = 3\n",
    "traffic_default = 5\n",
    "\n",
    "if transportation == \"Car\":\n",
    "    if (raining == \"True\") and (traffic == \"True\"):\n",
    "        total = car_commute + raining_default + traffic_default\n",
    "        print(f\"The total commute time is {total} mins\")\n",
    "    \n",
    "    elif raining == \"True\" and traffic == \"False\":\n",
    "        total = car_commute + raining_default\n",
    "        print(f\"The total commute time is {total} mins\")\n",
    "        \n",
    "    elif raining == \"False\" and traffic == \"True\":\n",
    "        total = car_commute + traffic_default\n",
    "        print(f\"The total commute time is {total} mins\")\n",
    "    else:\n",
    "        total = car_commute \n",
    "        print(f\"The total commute time is {total} mins\")\n",
    "        \n",
    "else:\n",
    "    if (raining == \"True\") and (traffic == \"True\"):\n",
    "        total = bike_commute + raining_default + traffic_default\n",
    "        print(f\"The total commute time is {total} mins\")\n",
    "        \n",
    "    elif raining == \"True\" and traffic == \"False\":\n",
    "        total = bike_commute + raining_default\n",
    "        print(f\"The total commute time is {total} mins\")\n",
    "        \n",
    "    elif raining == \"False\" and traffic == \"True\":\n",
    "        total = bike_commute + traffic_default\n",
    "        print(f\"The total commute time is {total} mins\")\n",
    "    else:\n",
    "        total = bike_commute \n",
    "        print(f\"The total commute time is {total} mins\")"
   ]
  },
  {
   "cell_type": "code",
   "execution_count": 105,
   "id": "dd96f92d",
   "metadata": {},
   "outputs": [
    {
     "name": "stdout",
     "output_type": "stream",
     "text": [
      "God is good\n",
      "How are you\n",
      "This is a test\n",
      "This is a test1\n",
      "8\n",
      "Test 3\n"
     ]
    }
   ],
   "source": [
    "x = 5\n",
    "\n",
    "if x < 10:\n",
    "    if x % 2 == 1:\n",
    "        print(\"God is good\")\n",
    "        print(\"How are you\")\n",
    "        \n",
    "    print(\"This is a test\")\n",
    "    print(\"This is a test1\")\n",
    "    print(4 + 4)\n",
    "    \n",
    "print(\"Test 3\")\n",
    "        "
   ]
  },
  {
   "cell_type": "markdown",
   "id": "f1398f39",
   "metadata": {},
   "source": [
    "## FOR LOOP AND WHILE LOOP IN PYTHON"
   ]
  },
  {
   "cell_type": "markdown",
   "id": "070ba3fb",
   "metadata": {},
   "source": [
    "### for loop"
   ]
  },
  {
   "cell_type": "code",
   "execution_count": 109,
   "id": "2669f834",
   "metadata": {},
   "outputs": [],
   "source": [
    "names = [\"omoba\", \"mayowa\", \"febisola\", \"ebun\", \"funbi\", \"zane\"]"
   ]
  },
  {
   "cell_type": "code",
   "execution_count": 110,
   "id": "7c974469",
   "metadata": {},
   "outputs": [
    {
     "name": "stdout",
     "output_type": "stream",
     "text": [
      "omoba\n",
      "mayowa\n",
      "febisola\n",
      "ebun\n",
      "funbi\n",
      "zane\n"
     ]
    }
   ],
   "source": [
    "for name in names:\n",
    "    print(name)"
   ]
  },
  {
   "cell_type": "code",
   "execution_count": 119,
   "id": "58ab15c2",
   "metadata": {},
   "outputs": [],
   "source": [
    "names = [\"omoba\", \"mayowa\", \"febisola\", \"ebun\", \"funbi\", \"zane\"]"
   ]
  },
  {
   "cell_type": "code",
   "execution_count": 125,
   "id": "a05292df",
   "metadata": {},
   "outputs": [
    {
     "name": "stdout",
     "output_type": "stream",
     "text": [
      "mayowa 4\n"
     ]
    }
   ],
   "source": [
    "for name in names:\n",
    "    if name.startswith(\"m\"):\n",
    "        print(name, 2 + 2)"
   ]
  },
  {
   "cell_type": "code",
   "execution_count": 132,
   "id": "dc38ed2f",
   "metadata": {},
   "outputs": [
    {
     "name": "stdout",
     "output_type": "stream",
     "text": [
      "1 is an odd number\n",
      "2 is an even number\n",
      "3 is an odd number\n",
      "4 is an even number\n",
      "5 is an odd number\n"
     ]
    }
   ],
   "source": [
    "for num in range(1, 6):\n",
    "    if num % 2 == 1:\n",
    "        print(f\"{num} is an odd number\")\n",
    "    else:\n",
    "        print(f\"{num} is an even number\")"
   ]
  }
 ],
 "metadata": {
  "kernelspec": {
   "display_name": "Python 3",
   "language": "python",
   "name": "python3"
  },
  "language_info": {
   "codemirror_mode": {
    "name": "ipython",
    "version": 3
   },
   "file_extension": ".py",
   "mimetype": "text/x-python",
   "name": "python",
   "nbconvert_exporter": "python",
   "pygments_lexer": "ipython3",
   "version": "3.8.8"
  }
 },
 "nbformat": 4,
 "nbformat_minor": 5
}
